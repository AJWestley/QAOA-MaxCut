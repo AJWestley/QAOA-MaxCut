{
 "cells": [
  {
   "cell_type": "markdown",
   "metadata": {},
   "source": [
    "# Max-Cut QAOA\n",
    "\n",
    "Here we have implemented the QAOA algorithm for $n$ layers and $m$ edges.\n",
    "\n",
    "The number of layers, qubits (nodes) and shots can be set under the 'Constants' section.\n",
    "\n",
    "We have ANALYTICAL set to True by default, which sets shots to None.\n",
    "\n",
    "Set ANALYTICAL to False to run the code empirically.\n",
    "\n",
    "All optimised circuits are compiled to OpenQASM2.0 which we then ran on one of IBM's QPUs."
   ]
  },
  {
   "cell_type": "markdown",
   "metadata": {},
   "source": [
    "## Prelims"
   ]
  },
  {
   "cell_type": "markdown",
   "metadata": {},
   "source": [
    "##### Imports"
   ]
  },
  {
   "cell_type": "code",
   "execution_count": 901,
   "metadata": {},
   "outputs": [],
   "source": [
    "import pennylane as qml\n",
    "from pennylane import numpy as np\n",
    "import matplotlib.pyplot as plt\n",
    "import networkx as nx\n",
    "import warnings\n",
    "warnings.filterwarnings(\"ignore\")"
   ]
  },
  {
   "cell_type": "markdown",
   "metadata": {},
   "source": [
    "##### Constants"
   ]
  },
  {
   "cell_type": "code",
   "execution_count": 902,
   "metadata": {},
   "outputs": [],
   "source": [
    "NUM_QUBITS = 2\n",
    "LAYERS = 1\n",
    "ANALYTICAL = True\n",
    "NUM_SHOTS = 100"
   ]
  },
  {
   "cell_type": "markdown",
   "metadata": {},
   "source": [
    "##### Predefined Functions"
   ]
  },
  {
   "cell_type": "code",
   "execution_count": 903,
   "metadata": {},
   "outputs": [],
   "source": [
    "def draw_circuit(circuit, params=None, **kwargs):\n",
    "    ''' Draws a given quantum circuit '''\n",
    "    qml.draw_mpl(circuit, **kwargs)(params)\n",
    "\n",
    "def draw_graph(edges):\n",
    "    ''' Draws a graph with given edges '''\n",
    "    G = nx.Graph()\n",
    "    G.add_edges_from(edges)\n",
    "    pos = nx.circular_layout(G)\n",
    "    nx.draw(G, pos, with_labels=True, node_color='skyblue', width=3, node_size=10000/np.sqrt(len(edges)), font_size=16, font_color='black', edge_color='black')\n",
    "    plt.xlim([-1.3, 1.3])\n",
    "    plt.ylim([-1.3, 1.3])\n",
    "\n",
    "def get_bitstrings(n):\n",
    "    ''' Gets first n binary bitstrings '''\n",
    "    length = len(bin(n-1)) - 2\n",
    "    binary_numbers = [' ' + bin(i)[2:].zfill(length) + ' ' for i in range(n)]\n",
    "    return binary_numbers\n",
    "\n",
    "def save_circuit(circuit, filename):\n",
    "    ''' Saves a circuit to qasm '''\n",
    "    qasm = circuit.qtape.to_openqasm()\n",
    "    with open(filename, \"w\") as file:\n",
    "        file.write(qasm)\n",
    "    print(f\"QASM script saved to {filename}\")"
   ]
  },
  {
   "cell_type": "markdown",
   "metadata": {},
   "source": [
    "## Define the Problem"
   ]
  },
  {
   "cell_type": "markdown",
   "metadata": {},
   "source": [
    "##### The Graph"
   ]
  },
  {
   "cell_type": "code",
   "execution_count": 904,
   "metadata": {},
   "outputs": [
    {
     "data": {
      "image/png": "[encoded data removed]",
      "text/plain": [
       "<Figure size 640x480 with 1 Axes>"
      ]
     },
     "metadata": {},
     "output_type": "display_data"
    }
   ],
   "source": [
    "if NUM_QUBITS == 4:\n",
    "    G = [(0, 1), (1, 2), (2, 3), (3, 0), (3, 1)]\n",
    "elif NUM_QUBITS == 8:\n",
    "    G = [(0, 1), (1, 2), (2, 3), (3, 4), (4, 5), (5, 6), (6, 7), (7, 0), (7, 2), (3, 5), (1, 4)]\n",
    "else:\n",
    "    G = [(0, 1)]\n",
    "    NUM_QUBITS = 2\n",
    "    LAYERS = 1\n",
    "\n",
    "draw_graph(G)\n",
    "plt.savefig(f'figures/{NUM_QUBITS}NodeGraph.png', dpi=300)"
   ]
  },
  {
   "cell_type": "markdown",
   "metadata": {},
   "source": [
    "##### The Hamiltonian and Unitaries"
   ]
  },
  {
   "cell_type": "code",
   "execution_count": 905,
   "metadata": {},
   "outputs": [],
   "source": [
    "# Cost Hamiltonian\n",
    "def Hc(graph):\n",
    "    H = 0\n",
    "    for u, v in graph:\n",
    "        H += 0.5 * (1 - qml.PauliZ(u) @ qml.PauliZ(v))\n",
    "    return H\n",
    "\n",
    "# Cost Unitary\n",
    "def Uc(gamma, graph):\n",
    "    for u, v in graph:\n",
    "        qml.CNOT(wires=[u, v])\n",
    "        qml.RZ(-2 * gamma, wires=v)\n",
    "        qml.CNOT(wires=[u, v])\n",
    "\n",
    "# Mixer Unitary\n",
    "def Um(beta, n_qubits):\n",
    "    for i in range(n_qubits):\n",
    "        qml.RX(2 * beta, wires=i)"
   ]
  },
  {
   "cell_type": "markdown",
   "metadata": {},
   "source": [
    "##### The QAOA Ansatz"
   ]
  },
  {
   "cell_type": "code",
   "execution_count": 906,
   "metadata": {},
   "outputs": [],
   "source": [
    "# Performs n layers of QAOA\n",
    "def QAOA(gammas, betas, n_layers, n_qubits, graph):\n",
    "    for i in range(n_qubits):\n",
    "        qml.Hadamard(wires=i)\n",
    "        \n",
    "    for i in range(n_layers):\n",
    "        Uc(gammas[i], graph)\n",
    "        \n",
    "        Um(betas[i], n_qubits)"
   ]
  },
  {
   "cell_type": "markdown",
   "metadata": {},
   "source": [
    "## Define the Circuit"
   ]
  },
  {
   "cell_type": "markdown",
   "metadata": {},
   "source": [
    "##### Configure the Device"
   ]
  },
  {
   "cell_type": "code",
   "execution_count": 907,
   "metadata": {},
   "outputs": [],
   "source": [
    "dev = qml.device(\"default.qubit\", wires=NUM_QUBITS, shots = None if ANALYTICAL else NUM_SHOTS)"
   ]
  },
  {
   "cell_type": "markdown",
   "metadata": {},
   "source": [
    "##### Construct the Circuit"
   ]
  },
  {
   "cell_type": "code",
   "execution_count": 908,
   "metadata": {},
   "outputs": [],
   "source": [
    "# For optimising the circuit\n",
    "@qml.qnode(dev)\n",
    "def circuit(params, n_layers = LAYERS, n_qubits = NUM_QUBITS, graph = G):\n",
    "    gammas = params[0]\n",
    "    betas = params[1]\n",
    "    \n",
    "    QAOA(gammas, betas, n_layers, n_qubits, graph)\n",
    "    \n",
    "    return qml.expval(Hc(graph))\n",
    "\n",
    "# For geting the final circuit state\n",
    "@qml.qnode(dev)\n",
    "def final_state(params, n_layers = LAYERS, n_qubits = NUM_QUBITS, graph = G):\n",
    "    gammas = params[0]\n",
    "    betas = params[1]\n",
    "    \n",
    "    QAOA(gammas, betas, n_layers, n_qubits, graph)\n",
    "    \n",
    "    return qml.probs(wires=list(range(n_qubits)))"
   ]
  },
  {
   "cell_type": "markdown",
   "metadata": {},
   "source": [
    "##### Circuit Diagram"
   ]
  },
  {
   "cell_type": "code",
   "execution_count": 909,
   "metadata": {},
   "outputs": [
    {
     "data": {
      "image/png": "[encoded data removed]",
      "text/plain": [
       "<Figure size 800x300 with 1 Axes>"
      ]
     },
     "metadata": {},
     "output_type": "display_data"
    }
   ],
   "source": [
    "draw_circuit(circuit, np.random.rand(2, LAYERS), style='pennylane')\n",
    "plt.savefig(f'figures/{NUM_QUBITS}Node_{LAYERS}Layer_Circuit.png', dpi=300)"
   ]
  },
  {
   "cell_type": "markdown",
   "metadata": {},
   "source": [
    "## Optimising the Parameters"
   ]
  },
  {
   "cell_type": "markdown",
   "metadata": {},
   "source": [
    "##### Optimisation Procedure"
   ]
  },
  {
   "cell_type": "code",
   "execution_count": 910,
   "metadata": {},
   "outputs": [],
   "source": [
    "# The full QAOA VQC\n",
    "def QAOA_maxcut(cost, n_layers = 1, steps = 100):\n",
    "    ''' Uses a given cost function to optimise a QAOA Max-Cut circuit '''\n",
    "    \n",
    "    # Optimiser and initial parameters\n",
    "    params = 0.1 * np.random.rand(2, n_layers, requires_grad=True)\n",
    "    optimiser = qml.AdamOptimizer(stepsize=0.1)\n",
    "    \n",
    "    loss = []\n",
    "\n",
    "    # Iteratively Optimise\n",
    "    for _ in range(steps):\n",
    "        params = optimiser.step(lambda x: -cost(x), params)\n",
    "        loss.append(cost(params))\n",
    "    \n",
    "    return loss, params"
   ]
  },
  {
   "cell_type": "markdown",
   "metadata": {},
   "source": [
    "##### Optimised Parameters"
   ]
  },
  {
   "cell_type": "code",
   "execution_count": 911,
   "metadata": {},
   "outputs": [
    {
     "name": "stdout",
     "output_type": "stream",
     "text": [
      "Gamma = [0.78848653]\n",
      "Beta = [0.39347891]\n"
     ]
    }
   ],
   "source": [
    "loss, params = QAOA_maxcut(circuit, n_layers=LAYERS)\n",
    "\n",
    "print(f'Gamma = {params[0]}\\nBeta = {params[1]}')"
   ]
  },
  {
   "cell_type": "markdown",
   "metadata": {},
   "source": [
    "##### Cost Curve"
   ]
  },
  {
   "cell_type": "code",
   "execution_count": 912,
   "metadata": {},
   "outputs": [
    {
     "data": {
      "image/png": "[encoded data removed]",
      "text/plain": [
       "<Figure size 640x480 with 1 Axes>"
      ]
     },
     "metadata": {},
     "output_type": "display_data"
    }
   ],
   "source": [
    "plt.plot(loss)\n",
    "plt.ylabel('Cost Function')\n",
    "plt.xlabel('Steps')\n",
    "plt.savefig(f'figures/{NUM_QUBITS}Node_{LAYERS}Layer_CostCurve.png', dpi=300)"
   ]
  },
  {
   "cell_type": "markdown",
   "metadata": {},
   "source": [
    "## Measure the Circuit Outputs"
   ]
  },
  {
   "cell_type": "markdown",
   "metadata": {},
   "source": [
    "#### The Mode Measurement (Optimal Solution)"
   ]
  },
  {
   "cell_type": "code",
   "execution_count": 913,
   "metadata": {},
   "outputs": [
    {
     "name": "stdout",
     "output_type": "stream",
     "text": [
      "1\n"
     ]
    }
   ],
   "source": [
    "observations = final_state(params)\n",
    "print(np.argmax(observations))"
   ]
  },
  {
   "cell_type": "markdown",
   "metadata": {},
   "source": [
    "##### Measurement Probabilities"
   ]
  },
  {
   "cell_type": "code",
   "execution_count": 914,
   "metadata": {},
   "outputs": [
    {
     "data": {
      "image/png": "[encoded data removed]",
      "text/plain": [
       "<Figure size 640x480 with 1 Axes>"
      ]
     },
     "metadata": {},
     "output_type": "display_data"
    }
   ],
   "source": [
    "plt.bar([str(i) for i in range(2**NUM_QUBITS)], observations)\n",
    "plt.tight_layout()\n",
    "plt.xlabel('Final State (Base 10)')\n",
    "plt.xlabel('Measurement Probability')\n",
    "plt.savefig(f'figures/{NUM_QUBITS}Node_{LAYERS}Layer_Probabilities.png', dpi=300)"
   ]
  },
  {
   "cell_type": "markdown",
   "metadata": {},
   "source": [
    "## Save Circuit for IBM"
   ]
  },
  {
   "cell_type": "code",
   "execution_count": 915,
   "metadata": {},
   "outputs": [
    {
     "name": "stdout",
     "output_type": "stream",
     "text": [
      "QASM script saved to QASM Circuits/MaxCutQAOA_2Nodes_1Layers.qasm\n"
     ]
    }
   ],
   "source": [
    "save_circuit(final_state, f'QASM Circuits/MaxCutQAOA_{NUM_QUBITS}Nodes_{LAYERS}Layers.qasm')"
   ]
  }
 ],
 "metadata": {
  "kernelspec": {
   "display_name": "Python 3",
   "language": "python",
   "name": "python3"
  },
  "language_info": {
   "codemirror_mode": {
    "name": "ipython",
    "version": 3
   },
   "file_extension": ".py",
   "mimetype": "text/x-python",
   "name": "python",
   "nbconvert_exporter": "python",
   "pygments_lexer": "ipython3",
   "version": "3.12.6"
  }
 },
 "nbformat": 4,
 "nbformat_minor": 2
}
